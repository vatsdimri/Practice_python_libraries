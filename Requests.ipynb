{
  "nbformat": 4,
  "nbformat_minor": 0,
  "metadata": {
    "colab": {
      "provenance": [],
      "authorship_tag": "ABX9TyNjhzlTcEvNl3m+KFqDK+dg",
      "include_colab_link": true
    },
    "kernelspec": {
      "name": "python3",
      "display_name": "Python 3"
    },
    "language_info": {
      "name": "python"
    }
  },
  "cells": [
    {
      "cell_type": "markdown",
      "metadata": {
        "id": "view-in-github",
        "colab_type": "text"
      },
      "source": [
        "<a href=\"https://colab.research.google.com/github/vatsdimri/Practice_python_libraries/blob/main/Requests.ipynb\" target=\"_parent\"><img src=\"https://colab.research.google.com/assets/colab-badge.svg\" alt=\"Open In Colab\"/></a>"
      ]
    },
    {
      "cell_type": "markdown",
      "source": [
        "# Requests"
      ],
      "metadata": {
        "id": "MANssSJlNt7y"
      }
    },
    {
      "cell_type": "code",
      "execution_count": null,
      "metadata": {
        "id": "R9GAhH2fNhz7"
      },
      "outputs": [],
      "source": [
        "import requests\n",
        "from bs4 import BeautifulSoup"
      ]
    },
    {
      "cell_type": "code",
      "source": [
        "url = 'https://realpython.com/python-requests/'\n",
        "response = requests.get(url)"
      ],
      "metadata": {
        "id": "qFxXai4TNyUi"
      },
      "execution_count": null,
      "outputs": []
    },
    {
      "cell_type": "code",
      "source": [
        "soup = BeautifulSoup(response.content)"
      ],
      "metadata": {
        "id": "g12UOL80ONti"
      },
      "execution_count": null,
      "outputs": []
    },
    {
      "cell_type": "code",
      "source": [
        "soup.title"
      ],
      "metadata": {
        "colab": {
          "base_uri": "https://localhost:8080/"
        },
        "id": "BbfQJzkIN4h4",
        "outputId": "bfd7ff26-ed01-4e9d-c0c1-45dce0992397"
      },
      "execution_count": null,
      "outputs": [
        {
          "output_type": "execute_result",
          "data": {
            "text/plain": [
              "<title>Python's Requests Library (Guide) – Real Python</title>"
            ]
          },
          "metadata": {},
          "execution_count": 9
        }
      ]
    },
    {
      "cell_type": "code",
      "source": [
        "soup.title.name"
      ],
      "metadata": {
        "id": "9OGUdS5qOI7j",
        "colab": {
          "base_uri": "https://localhost:8080/",
          "height": 36
        },
        "outputId": "21df6991-7f67-4325-84f5-ab1ef267629f"
      },
      "execution_count": null,
      "outputs": [
        {
          "output_type": "execute_result",
          "data": {
            "text/plain": [
              "'title'"
            ],
            "application/vnd.google.colaboratory.intrinsic+json": {
              "type": "string"
            }
          },
          "metadata": {},
          "execution_count": 12
        }
      ]
    },
    {
      "cell_type": "code",
      "source": [
        "soup.title.string"
      ],
      "metadata": {
        "colab": {
          "base_uri": "https://localhost:8080/",
          "height": 36
        },
        "id": "jdGJPcFbRcDd",
        "outputId": "efb6ce53-20fd-498a-f1d8-7254de96a2ca"
      },
      "execution_count": null,
      "outputs": [
        {
          "output_type": "execute_result",
          "data": {
            "text/plain": [
              "\"Python's Requests Library (Guide) – Real Python\""
            ],
            "application/vnd.google.colaboratory.intrinsic+json": {
              "type": "string"
            }
          },
          "metadata": {},
          "execution_count": 13
        }
      ]
    },
    {
      "cell_type": "code",
      "source": [
        "import spacy"
      ],
      "metadata": {
        "id": "25He9C-AXEfA"
      },
      "execution_count": null,
      "outputs": []
    },
    {
      "cell_type": "code",
      "source": [
        "dir(spacy)"
      ],
      "metadata": {
        "id": "TGFCsqE4qk_d",
        "outputId": "ad39b8d6-ad93-4d1c-a745-0c443933adb0",
        "colab": {
          "base_uri": "https://localhost:8080/"
        }
      },
      "execution_count": null,
      "outputs": [
        {
          "output_type": "execute_result",
          "data": {
            "text/plain": [
              "['Any',\n",
              " 'Config',\n",
              " 'Dict',\n",
              " 'Errors',\n",
              " 'Iterable',\n",
              " 'Language',\n",
              " 'Path',\n",
              " 'Union',\n",
              " 'Vocab',\n",
              " '__builtins__',\n",
              " '__cached__',\n",
              " '__doc__',\n",
              " '__file__',\n",
              " '__loader__',\n",
              " '__name__',\n",
              " '__package__',\n",
              " '__path__',\n",
              " '__spec__',\n",
              " '__version__',\n",
              " 'about',\n",
              " 'attrs',\n",
              " 'blank',\n",
              " 'cli',\n",
              " 'compat',\n",
              " 'displacy',\n",
              " 'errors',\n",
              " 'explain',\n",
              " 'git_info',\n",
              " 'glossary',\n",
              " 'info',\n",
              " 'kb',\n",
              " 'lang',\n",
              " 'language',\n",
              " 'lexeme',\n",
              " 'load',\n",
              " 'logger',\n",
              " 'lookups',\n",
              " 'matcher',\n",
              " 'ml',\n",
              " 'morphology',\n",
              " 'parts_of_speech',\n",
              " 'pipe_analysis',\n",
              " 'pipeline',\n",
              " 'prefer_gpu',\n",
              " 'registry',\n",
              " 'require_cpu',\n",
              " 'require_gpu',\n",
              " 'schemas',\n",
              " 'scorer',\n",
              " 'setup_default_warnings',\n",
              " 'strings',\n",
              " 'symbols',\n",
              " 'sys',\n",
              " 'tokenizer',\n",
              " 'tokens',\n",
              " 'training',\n",
              " 'ty',\n",
              " 'util',\n",
              " 'vectors',\n",
              " 'vocab']"
            ]
          },
          "metadata": {},
          "execution_count": 15
        }
      ]
    },
    {
      "cell_type": "code",
      "source": [],
      "metadata": {
        "id": "1xTPJausqolw"
      },
      "execution_count": null,
      "outputs": []
    }
  ]
}